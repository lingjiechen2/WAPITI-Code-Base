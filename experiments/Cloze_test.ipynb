{
 "cells": [
  {
   "cell_type": "code",
   "execution_count": 1,
   "id": "9e266eca-b017-461f-9be4-bec02cae9b28",
   "metadata": {},
   "outputs": [],
   "source": [
    "%load_ext autoreload\n",
    "%autoreload 2"
   ]
  },
  {
   "cell_type": "code",
   "execution_count": 2,
   "id": "fae8a7a9-6902-424e-8e66-b107fccb361f",
   "metadata": {},
   "outputs": [],
   "source": [
    "import pandas as pd\n",
    "import sys\n",
    "import os\n",
    "from dataclasses import dataclass\n",
    "import json\n",
    "import numpy as np\n",
    "from matplotlib import pyplot as plt\n",
    "import seaborn as sns\n",
    "import torch\n",
    "import torch.nn as nn\n",
    "from transformers import AutoModelForCausalLM, AutoTokenizer\n",
    "from transformer_lens import HookedTransformer\n",
    "import seaborn as sns\n",
    "from scipy.stats import bootstrap\n",
    "from utils import plot_ci, plot_ci_plus_heatmap\n",
    "from tqdm import tqdm\n",
    "\n",
    "# fix random seed\n",
    "seed = 42\n",
    "np.random.seed(seed)\n",
    "torch.manual_seed(seed)\n",
    "os.environ[\"http_proxy\"] = \"http://10.176.52.116:7890\"\n",
    "os.environ[\"https_proxy\"] = \"http://10.176.52.116:7890\""
   ]
  },
  {
   "cell_type": "code",
   "execution_count": 3,
   "id": "1fb93987",
   "metadata": {
    "tags": [
     "parameters"
    ]
   },
   "outputs": [],
   "source": [
    "target_lang = 'zh'\n",
    "latent_lang = 'en'\n",
    "model_size = '7b'\n",
    "model_name = 'qwen'\n",
    "if model_name == 'qwen':\n",
    "    # Qwen1.5-1.8b\n",
    "    model_path = \"/remote-home/fkzhu/.cache/huggingface/hub/models--Qwen--Qwen1.5-1.8B/snapshots/7846de7ed421727b318d6605a0bfab659da2c067/\"\n",
    "    model_name = 'Qwen/Qwen1.5-1.8B'\n",
    "elif model_name == 'phi':\n",
    "    # phi-2\n",
    "    model_path = \"/remote-home/fkzhu/models/phi-2\"\n",
    "    model_name = \"microsoft/phi-2\"\n",
    "\n",
    "# # opt-2.7b\n",
    "# model_path = \"/remote-home/fkzhu/models/facebook/opt-2.7b\"\n",
    "# model_name = 'facebook/opt-2.7b'\n",
    "\n",
    "\n",
    "# # Llama-2-7b-hf\n",
    "# model_path = \"/remote-home/fkzhu/models/Llama-2-7b-hf\"\n",
    "# model_name = \"meta-llama/Llama-2-7b-hf\"\n",
    "\n",
    "# # gemma-2b\n",
    "# model_path = \"/remote-home/fkzhu/models/gemma-2b\"\n",
    "# model_name = \"google/gemma-2b\"\n",
    "\n",
    "local_files_only = True\n",
    "single_token_only = False\n",
    "multi_token_only = False\n",
    "out_dir = './visuals'\n",
    "inference_dtype=torch.float32"
   ]
  },
  {
   "cell_type": "code",
   "execution_count": 4,
   "id": "8b1a3be9",
   "metadata": {},
   "outputs": [],
   "source": [
    "prefix = \"./data/langs/\"\n",
    "if target_lang == 'en':\n",
    "    df_en_de = pd.read_csv(f'{prefix}{target_lang}/clean_for_en.csv')\n",
    "else:\n",
    "    df_en_de = pd.read_csv(f'{prefix}{target_lang}/clean.csv')"
   ]
  },
  {
   "cell_type": "code",
   "execution_count": 5,
   "id": "db417082",
   "metadata": {},
   "outputs": [
    {
     "data": {
      "application/vnd.jupyter.widget-view+json": {
       "model_id": "65efecc01616442fb616cf9d7065ac94",
       "version_major": 2,
       "version_minor": 0
      },
      "text/plain": [
       "Loading checkpoint shards:   0%|          | 0/2 [00:00<?, ?it/s]"
      ]
     },
     "metadata": {},
     "output_type": "display_data"
    },
    {
     "name": "stderr",
     "output_type": "stream",
     "text": [
      "/remote-home/fkzhu/anaconda3/envs/mech/lib/python3.12/site-packages/huggingface_hub/file_download.py:1132: FutureWarning: `resume_download` is deprecated and will be removed in version 1.0.0. Downloads always resume when possible. If you want to force a new download, use `force_download=True`.\n",
      "  warnings.warn(\n",
      "WARNING:root:You are not using LayerNorm, so the writing weights can't be centered! Skipping\n"
     ]
    },
    {
     "ename": "OutOfMemoryError",
     "evalue": "CUDA out of memory. Tried to allocate 172.00 MiB. GPU 0 has a total capacity of 23.65 GiB of which 78.56 MiB is free. Process 33742 has 23.57 GiB memory in use. Of the allocated memory 22.59 GiB is allocated by PyTorch, and 16.01 MiB is reserved by PyTorch but unallocated. If reserved but unallocated memory is large try setting PYTORCH_CUDA_ALLOC_CONF=expandable_segments:True to avoid fragmentation.  See documentation for Memory Management  (https://pytorch.org/docs/stable/notes/cuda.html#environment-variables)",
     "output_type": "error",
     "traceback": [
      "\u001b[0;31m---------------------------------------------------------------------------\u001b[0m",
      "\u001b[0;31mOutOfMemoryError\u001b[0m                          Traceback (most recent call last)",
      "Cell \u001b[0;32mIn[5], line 6\u001b[0m\n\u001b[1;32m      1\u001b[0m tokenizer \u001b[38;5;241m=\u001b[39m AutoTokenizer\u001b[38;5;241m.\u001b[39mfrom_pretrained(model_path, local_files_only\u001b[38;5;241m=\u001b[39mlocal_files_only, use_fast\u001b[38;5;241m=\u001b[39m\u001b[38;5;28;01mFalse\u001b[39;00m)\n\u001b[1;32m      2\u001b[0m hf_model \u001b[38;5;241m=\u001b[39m AutoModelForCausalLM\u001b[38;5;241m.\u001b[39mfrom_pretrained(model_path, \u001b[38;5;66;03m#load_in_8bit=True, \u001b[39;00m\n\u001b[1;32m      3\u001b[0m                                                 torch_dtype\u001b[38;5;241m=\u001b[39minference_dtype,\n\u001b[1;32m      4\u001b[0m                                              local_files_only\u001b[38;5;241m=\u001b[39mlocal_files_only)\n\u001b[0;32m----> 6\u001b[0m model \u001b[38;5;241m=\u001b[39m \u001b[43mHookedTransformer\u001b[49m\u001b[38;5;241;43m.\u001b[39;49m\u001b[43mfrom_pretrained\u001b[49m\u001b[43m(\u001b[49m\u001b[43mmodel_name\u001b[49m\u001b[43m,\u001b[49m\n\u001b[1;32m      7\u001b[0m \u001b[43m                                          \u001b[49m\u001b[43mfold_ln\u001b[49m\u001b[38;5;241;43m=\u001b[39;49m\u001b[38;5;28;43;01mFalse\u001b[39;49;00m\u001b[43m,\u001b[49m\n\u001b[1;32m      8\u001b[0m \u001b[43m                                          \u001b[49m\u001b[43mhf_model\u001b[49m\u001b[38;5;241;43m=\u001b[39;49m\u001b[43mhf_model\u001b[49m\u001b[43m)\u001b[49m\n\u001b[1;32m      9\u001b[0m model\u001b[38;5;241m.\u001b[39meval()\n",
      "File \u001b[0;32m~/anaconda3/envs/mech/lib/python3.12/site-packages/transformer_lens/HookedTransformer.py:1295\u001b[0m, in \u001b[0;36mHookedTransformer.from_pretrained\u001b[0;34m(cls, model_name, fold_ln, center_writing_weights, center_unembed, refactor_factored_attn_matrices, checkpoint_index, checkpoint_value, hf_model, device, n_devices, tokenizer, move_to_device, fold_value_biases, default_prepend_bos, default_padding_side, dtype, **from_pretrained_kwargs)\u001b[0m\n\u001b[1;32m   1285\u001b[0m model\u001b[38;5;241m.\u001b[39mload_and_process_state_dict(\n\u001b[1;32m   1286\u001b[0m     state_dict,\n\u001b[1;32m   1287\u001b[0m     fold_ln\u001b[38;5;241m=\u001b[39mfold_ln,\n\u001b[0;32m   (...)\u001b[0m\n\u001b[1;32m   1291\u001b[0m     refactor_factored_attn_matrices\u001b[38;5;241m=\u001b[39mrefactor_factored_attn_matrices,\n\u001b[1;32m   1292\u001b[0m )\n\u001b[1;32m   1294\u001b[0m \u001b[38;5;28;01mif\u001b[39;00m move_to_device:\n\u001b[0;32m-> 1295\u001b[0m     \u001b[43mmodel\u001b[49m\u001b[38;5;241;43m.\u001b[39;49m\u001b[43mmove_model_modules_to_device\u001b[49m\u001b[43m(\u001b[49m\u001b[43m)\u001b[49m\n\u001b[1;32m   1297\u001b[0m \u001b[38;5;28mprint\u001b[39m(\u001b[38;5;124mf\u001b[39m\u001b[38;5;124m\"\u001b[39m\u001b[38;5;124mLoaded pretrained model \u001b[39m\u001b[38;5;132;01m{\u001b[39;00mmodel_name\u001b[38;5;132;01m}\u001b[39;00m\u001b[38;5;124m into HookedTransformer\u001b[39m\u001b[38;5;124m\"\u001b[39m)\n\u001b[1;32m   1299\u001b[0m \u001b[38;5;28;01mreturn\u001b[39;00m model\n",
      "File \u001b[0;32m~/anaconda3/envs/mech/lib/python3.12/site-packages/transformer_lens/HookedTransformer.py:1036\u001b[0m, in \u001b[0;36mHookedTransformer.move_model_modules_to_device\u001b[0;34m(self)\u001b[0m\n\u001b[1;32m   1034\u001b[0m \u001b[38;5;28mself\u001b[39m\u001b[38;5;241m.\u001b[39munembed\u001b[38;5;241m.\u001b[39mto(devices\u001b[38;5;241m.\u001b[39mget_device_for_block_index(\u001b[38;5;28mself\u001b[39m\u001b[38;5;241m.\u001b[39mcfg\u001b[38;5;241m.\u001b[39mn_layers \u001b[38;5;241m-\u001b[39m \u001b[38;5;241m1\u001b[39m, \u001b[38;5;28mself\u001b[39m\u001b[38;5;241m.\u001b[39mcfg))\n\u001b[1;32m   1035\u001b[0m \u001b[38;5;28;01mfor\u001b[39;00m i, block \u001b[38;5;129;01min\u001b[39;00m \u001b[38;5;28menumerate\u001b[39m(\u001b[38;5;28mself\u001b[39m\u001b[38;5;241m.\u001b[39mblocks):\n\u001b[0;32m-> 1036\u001b[0m     \u001b[43mblock\u001b[49m\u001b[38;5;241;43m.\u001b[39;49m\u001b[43mto\u001b[49m\u001b[43m(\u001b[49m\u001b[43mdevices\u001b[49m\u001b[38;5;241;43m.\u001b[39;49m\u001b[43mget_device_for_block_index\u001b[49m\u001b[43m(\u001b[49m\u001b[43mi\u001b[49m\u001b[43m,\u001b[49m\u001b[43m \u001b[49m\u001b[38;5;28;43mself\u001b[39;49m\u001b[38;5;241;43m.\u001b[39;49m\u001b[43mcfg\u001b[49m\u001b[43m)\u001b[49m\u001b[43m)\u001b[49m\n",
      "File \u001b[0;32m~/anaconda3/envs/mech/lib/python3.12/site-packages/torch/nn/modules/module.py:1152\u001b[0m, in \u001b[0;36mModule.to\u001b[0;34m(self, *args, **kwargs)\u001b[0m\n\u001b[1;32m   1148\u001b[0m         \u001b[38;5;28;01mreturn\u001b[39;00m t\u001b[38;5;241m.\u001b[39mto(device, dtype \u001b[38;5;28;01mif\u001b[39;00m t\u001b[38;5;241m.\u001b[39mis_floating_point() \u001b[38;5;129;01mor\u001b[39;00m t\u001b[38;5;241m.\u001b[39mis_complex() \u001b[38;5;28;01melse\u001b[39;00m \u001b[38;5;28;01mNone\u001b[39;00m,\n\u001b[1;32m   1149\u001b[0m                     non_blocking, memory_format\u001b[38;5;241m=\u001b[39mconvert_to_format)\n\u001b[1;32m   1150\u001b[0m     \u001b[38;5;28;01mreturn\u001b[39;00m t\u001b[38;5;241m.\u001b[39mto(device, dtype \u001b[38;5;28;01mif\u001b[39;00m t\u001b[38;5;241m.\u001b[39mis_floating_point() \u001b[38;5;129;01mor\u001b[39;00m t\u001b[38;5;241m.\u001b[39mis_complex() \u001b[38;5;28;01melse\u001b[39;00m \u001b[38;5;28;01mNone\u001b[39;00m, non_blocking)\n\u001b[0;32m-> 1152\u001b[0m \u001b[38;5;28;01mreturn\u001b[39;00m \u001b[38;5;28;43mself\u001b[39;49m\u001b[38;5;241;43m.\u001b[39;49m\u001b[43m_apply\u001b[49m\u001b[43m(\u001b[49m\u001b[43mconvert\u001b[49m\u001b[43m)\u001b[49m\n",
      "File \u001b[0;32m~/anaconda3/envs/mech/lib/python3.12/site-packages/torch/nn/modules/module.py:802\u001b[0m, in \u001b[0;36mModule._apply\u001b[0;34m(self, fn, recurse)\u001b[0m\n\u001b[1;32m    800\u001b[0m \u001b[38;5;28;01mif\u001b[39;00m recurse:\n\u001b[1;32m    801\u001b[0m     \u001b[38;5;28;01mfor\u001b[39;00m module \u001b[38;5;129;01min\u001b[39;00m \u001b[38;5;28mself\u001b[39m\u001b[38;5;241m.\u001b[39mchildren():\n\u001b[0;32m--> 802\u001b[0m         \u001b[43mmodule\u001b[49m\u001b[38;5;241;43m.\u001b[39;49m\u001b[43m_apply\u001b[49m\u001b[43m(\u001b[49m\u001b[43mfn\u001b[49m\u001b[43m)\u001b[49m\n\u001b[1;32m    804\u001b[0m \u001b[38;5;28;01mdef\u001b[39;00m \u001b[38;5;21mcompute_should_use_set_data\u001b[39m(tensor, tensor_applied):\n\u001b[1;32m    805\u001b[0m     \u001b[38;5;28;01mif\u001b[39;00m torch\u001b[38;5;241m.\u001b[39m_has_compatible_shallow_copy_type(tensor, tensor_applied):\n\u001b[1;32m    806\u001b[0m         \u001b[38;5;66;03m# If the new tensor has compatible tensor type as the existing tensor,\u001b[39;00m\n\u001b[1;32m    807\u001b[0m         \u001b[38;5;66;03m# the current behavior is to change the tensor in-place using `.data =`,\u001b[39;00m\n\u001b[0;32m   (...)\u001b[0m\n\u001b[1;32m    812\u001b[0m         \u001b[38;5;66;03m# global flag to let the user control whether they want the future\u001b[39;00m\n\u001b[1;32m    813\u001b[0m         \u001b[38;5;66;03m# behavior of overwriting the existing tensor or not.\u001b[39;00m\n",
      "File \u001b[0;32m~/anaconda3/envs/mech/lib/python3.12/site-packages/torch/nn/modules/module.py:825\u001b[0m, in \u001b[0;36mModule._apply\u001b[0;34m(self, fn, recurse)\u001b[0m\n\u001b[1;32m    821\u001b[0m \u001b[38;5;66;03m# Tensors stored in modules are graph leaves, and we don't want to\u001b[39;00m\n\u001b[1;32m    822\u001b[0m \u001b[38;5;66;03m# track autograd history of `param_applied`, so we have to use\u001b[39;00m\n\u001b[1;32m    823\u001b[0m \u001b[38;5;66;03m# `with torch.no_grad():`\u001b[39;00m\n\u001b[1;32m    824\u001b[0m \u001b[38;5;28;01mwith\u001b[39;00m torch\u001b[38;5;241m.\u001b[39mno_grad():\n\u001b[0;32m--> 825\u001b[0m     param_applied \u001b[38;5;241m=\u001b[39m \u001b[43mfn\u001b[49m\u001b[43m(\u001b[49m\u001b[43mparam\u001b[49m\u001b[43m)\u001b[49m\n\u001b[1;32m    826\u001b[0m should_use_set_data \u001b[38;5;241m=\u001b[39m compute_should_use_set_data(param, param_applied)\n\u001b[1;32m    827\u001b[0m \u001b[38;5;28;01mif\u001b[39;00m should_use_set_data:\n",
      "File \u001b[0;32m~/anaconda3/envs/mech/lib/python3.12/site-packages/torch/nn/modules/module.py:1150\u001b[0m, in \u001b[0;36mModule.to.<locals>.convert\u001b[0;34m(t)\u001b[0m\n\u001b[1;32m   1147\u001b[0m \u001b[38;5;28;01mif\u001b[39;00m convert_to_format \u001b[38;5;129;01mis\u001b[39;00m \u001b[38;5;129;01mnot\u001b[39;00m \u001b[38;5;28;01mNone\u001b[39;00m \u001b[38;5;129;01mand\u001b[39;00m t\u001b[38;5;241m.\u001b[39mdim() \u001b[38;5;129;01min\u001b[39;00m (\u001b[38;5;241m4\u001b[39m, \u001b[38;5;241m5\u001b[39m):\n\u001b[1;32m   1148\u001b[0m     \u001b[38;5;28;01mreturn\u001b[39;00m t\u001b[38;5;241m.\u001b[39mto(device, dtype \u001b[38;5;28;01mif\u001b[39;00m t\u001b[38;5;241m.\u001b[39mis_floating_point() \u001b[38;5;129;01mor\u001b[39;00m t\u001b[38;5;241m.\u001b[39mis_complex() \u001b[38;5;28;01melse\u001b[39;00m \u001b[38;5;28;01mNone\u001b[39;00m,\n\u001b[1;32m   1149\u001b[0m                 non_blocking, memory_format\u001b[38;5;241m=\u001b[39mconvert_to_format)\n\u001b[0;32m-> 1150\u001b[0m \u001b[38;5;28;01mreturn\u001b[39;00m \u001b[43mt\u001b[49m\u001b[38;5;241;43m.\u001b[39;49m\u001b[43mto\u001b[49m\u001b[43m(\u001b[49m\u001b[43mdevice\u001b[49m\u001b[43m,\u001b[49m\u001b[43m \u001b[49m\u001b[43mdtype\u001b[49m\u001b[43m \u001b[49m\u001b[38;5;28;43;01mif\u001b[39;49;00m\u001b[43m \u001b[49m\u001b[43mt\u001b[49m\u001b[38;5;241;43m.\u001b[39;49m\u001b[43mis_floating_point\u001b[49m\u001b[43m(\u001b[49m\u001b[43m)\u001b[49m\u001b[43m \u001b[49m\u001b[38;5;129;43;01mor\u001b[39;49;00m\u001b[43m \u001b[49m\u001b[43mt\u001b[49m\u001b[38;5;241;43m.\u001b[39;49m\u001b[43mis_complex\u001b[49m\u001b[43m(\u001b[49m\u001b[43m)\u001b[49m\u001b[43m \u001b[49m\u001b[38;5;28;43;01melse\u001b[39;49;00m\u001b[43m \u001b[49m\u001b[38;5;28;43;01mNone\u001b[39;49;00m\u001b[43m,\u001b[49m\u001b[43m \u001b[49m\u001b[43mnon_blocking\u001b[49m\u001b[43m)\u001b[49m\n",
      "\u001b[0;31mOutOfMemoryError\u001b[0m: CUDA out of memory. Tried to allocate 172.00 MiB. GPU 0 has a total capacity of 23.65 GiB of which 78.56 MiB is free. Process 33742 has 23.57 GiB memory in use. Of the allocated memory 22.59 GiB is allocated by PyTorch, and 16.01 MiB is reserved by PyTorch but unallocated. If reserved but unallocated memory is large try setting PYTORCH_CUDA_ALLOC_CONF=expandable_segments:True to avoid fragmentation.  See documentation for Memory Management  (https://pytorch.org/docs/stable/notes/cuda.html#environment-variables)"
     ]
    }
   ],
   "source": [
    "tokenizer = AutoTokenizer.from_pretrained(model_path, local_files_only=local_files_only, use_fast=False)\n",
    "hf_model = AutoModelForCausalLM.from_pretrained(model_path, #load_in_8bit=True, \n",
    "                                                torch_dtype=inference_dtype,\n",
    "                                             local_files_only=local_files_only)\n",
    "\n",
    "model = HookedTransformer.from_pretrained(model_name,\n",
    "                                          fold_ln=False,\n",
    "                                          hf_model=hf_model)\n",
    "model.eval()"
   ]
  },
  {
   "cell_type": "code",
   "execution_count": null,
   "id": "354ed358",
   "metadata": {},
   "outputs": [
    {
     "name": "stdout",
     "output_type": "stream",
     "text": [
      "list(unemb[0].parameters())=[Parameter containing:\n",
      "tensor([5.0938, 4.8438, 4.9062,  ..., 5.0312, 4.9062, 4.8750], device='cuda:0',\n",
      "       requires_grad=True)]\n",
      "weights=tensor([5.0938, 4.8438, 4.9062,  ..., 5.0312, 4.9062, 4.8750])\n",
      "U torch.Size([151936, 2048]) weights torch.Size([1, 2048])\n",
      "0.0665488988161087\n"
     ]
    }
   ],
   "source": [
    "unemb = nn.Sequential(model.ln_final, model.unembed)\n",
    "U = torch.transpose(list(unemb[1].parameters())[0],0,1).detach().cpu().float()\n",
    "print(f'{list(unemb[0].parameters())=}')\n",
    "weights = list(unemb[0].parameters())[0].detach().cpu().float()\n",
    "print(f\"{weights=}\")\n",
    "print(f'U {U.shape} weights {weights.unsqueeze(0).shape}')\n",
    "U_weighted = U.clone() \n",
    "#U_weighted = U_weighted / ((U_weighted**2).mean(dim=1, keepdim=True))**0.5\n",
    "U_weighted *= weights.unsqueeze(0) \n",
    "U_normalized = U_weighted / ((U_weighted**2).sum(dim=1, keepdim=True))**0.5\n",
    "v = U.shape[0]\n",
    "TT = U_normalized.T @ U_normalized\n",
    "avgUU = (((U_normalized.T @ U_normalized)**2).sum() / v**2)**0.5\n",
    "print(avgUU.item())\n"
   ]
  },
  {
   "cell_type": "code",
   "execution_count": null,
   "id": "f0c0a52d",
   "metadata": {},
   "outputs": [],
   "source": [
    "def token_prefixes(token_str: str):\n",
    "    n = len(token_str)\n",
    "    tokens = [token_str[:i] for i in range(1, n+1)]\n",
    "    return tokens \n",
    "\n",
    "def add_spaces(tokens):\n",
    "    return ['▁' + t for t in tokens] + tokens\n",
    "\n",
    "def capitalizations(tokens):\n",
    "    return list(set(tokens))\n",
    "\n",
    "def unicode_prefix_tokid(zh_char = \"云\", tokenizer=tokenizer):\n",
    "    start = zh_char.encode().__str__()[2:-1].split('\\\\x')[1]\n",
    "    unicode_format = '<0x%s>'\n",
    "    start_key = unicode_format%start.upper()\n",
    "    print(f'{start_key=}')\n",
    "    if start_key in tokenizer.get_vocab():\n",
    "        return tokenizer.get_vocab()[start_key]\n",
    "    return None\n",
    "\n",
    "def process_tokens(token_str: str, tokenizer, lang):\n",
    "    with_prefixes = token_prefixes(token_str)\n",
    "    with_spaces = add_spaces(with_prefixes)\n",
    "    with_capitalizations = capitalizations(with_spaces)\n",
    "    print(f'{with_prefixes=}\\n{with_spaces=}\\n{with_capitalizations=}')\n",
    "    final_tokens = []\n",
    "    for tok in with_capitalizations:\n",
    "        tok = tokenizer.convert_ids_to_tokens(tokenizer(tok)['input_ids'])\n",
    "        print(f\"{tok=}\")\n",
    "        if len(tok) == 1:\n",
    "            tok = tok[0]\n",
    "        else:\n",
    "            continue\n",
    "        if tok in tokenizer.get_vocab():\n",
    "            print(f\"In get_vocab()\")\n",
    "            final_tokens.append(tokenizer.get_vocab()[tok])\n",
    "        else:\n",
    "            print(f\"Not In get_vocab()\")\n",
    "    if lang in ['zh', 'ru']:\n",
    "        # token_str = tokenizer.convert_ids_to_tokens(tokenizer(token_str)['input_ids'])\n",
    "        tokid = unicode_prefix_tokid(token_str, tokenizer)\n",
    "        print(f\"{tokid=}\")\n",
    "        if tokid is not None:\n",
    "            final_tokens.append(tokid)\n",
    "    return final_tokens\n",
    "\n",
    "id2voc = {id:voc for voc, id in tokenizer.get_vocab().items()}\n",
    "def get_tokens(token_ids, id2voc=id2voc):\n",
    "    return [id2voc[tokid] for tokid in token_ids]\n",
    "\n",
    "def compute_entropy(probas):\n",
    "    return (-probas*torch.log2(probas)).sum(dim=-1)\n",
    "\n",
    "lang2name = {'fr': 'Français', 'de': 'Deutsch', 'ru': 'Русский', 'en': 'English', 'zh': '中文'}"
   ]
  },
  {
   "cell_type": "markdown",
   "id": "eaeca7bf",
   "metadata": {},
   "source": [
    "# Gap texts"
   ]
  },
  {
   "cell_type": "code",
   "execution_count": null,
   "id": "6d53abf2",
   "metadata": {},
   "outputs": [],
   "source": [
    "key = \"blank_prompt_translation_masked\"\n",
    "dataset_gap = []\n",
    "n_skip = 2\n",
    "\n",
    "for idx, (idx_df, row) in tqdm(enumerate(df_en_de.iterrows())):\n",
    "    print(row)\n",
    "    prompt_template = f''\n",
    "    indices = set(list(range(len(df_en_de)))) - set([idx])\n",
    "    idx_examples = np.random.choice(list(indices), n_skip, replace=False)\n",
    "    prompt_template += f'{df_en_de[key][idx_examples[0]]}\\n'\n",
    "    prompt_template += f'{df_en_de[key][idx_examples[1]]}\\n' \n",
    "\n",
    "    # get tok sets and kick out if intersection\n",
    "    out_token_str = row['word_translation']\n",
    "    latent_token_str = row['word_original']\n",
    "    out_token_id = process_tokens(out_token_str, tokenizer, target_lang)\n",
    "    # out_token_id = tokenizer(out_token_str)['input_ids']\n",
    "    print(f\"{out_token_str=}\")\n",
    "    print(f\"{out_token_id=}\")\n",
    "    latent_token_id = process_tokens(latent_token_str, tokenizer, latent_lang)\n",
    "    # latent_token_id = tokenizer(latent_token_str)['input_ids']\n",
    "    print(f\"{latent_token_str=}\")\n",
    "    print(f\"{latent_token_id=}\")\n",
    "    # if len(out_token_id) > 1 and out_token_id[0] == latent_token_id[0] and out_token_id != latent_token_id: \n",
    "    #     out_token_id = [out_token_id[1]]\n",
    "    #     latent_lang = [latent_token_id[1]]\n",
    "    intersection = set(out_token_id).intersection(set(latent_token_id))\n",
    "    if len(out_token_id) == 0 or len(latent_token_id) == 0:\n",
    "        continue\n",
    "    if target_lang != 'en' and len(intersection) > 0:\n",
    "        continue \n",
    "    if target_lang == 'zh':\n",
    "        prompt = row[key].split(\"：\")[0]+\": \\\"\"\n",
    "    else: \n",
    "        prompt = row[key].split(\":\")[0]+\": \\\"\"\n",
    "    dataset_gap.append({\n",
    "        'prompt': prompt_template + prompt,\n",
    "        'out_token_id': out_token_id,\n",
    "        'out_token_str': out_token_str,\n",
    "        'latent_token_id': latent_token_id,\n",
    "        'latent_token_str': latent_token_str,\n",
    "    })"
   ]
  },
  {
   "cell_type": "code",
   "execution_count": null,
   "id": "f787125a",
   "metadata": {},
   "outputs": [
    {
     "data": {
      "text/plain": [
       "139"
      ]
     },
     "execution_count": 41,
     "metadata": {},
     "output_type": "execute_result"
    }
   ],
   "source": [
    "len(dataset_gap)"
   ]
  },
  {
   "cell_type": "code",
   "execution_count": null,
   "id": "3c8c342d",
   "metadata": {},
   "outputs": [
    {
     "name": "stdout",
     "output_type": "stream",
     "text": [
      "\"_\"是一种大型家养动物，有四条腿，常用于骑乘和赛跑。答案：\"马\"。\n",
      "\"_\"是夜空中发光的天体。答案：\"星\"。\n",
      "\"_\"用来阅读故事。答案: \"\n"
     ]
    }
   ],
   "source": [
    "df_gap = pd.DataFrame(dataset_gap)\n",
    "print(df_gap['prompt'][0])"
   ]
  },
  {
   "cell_type": "code",
   "execution_count": null,
   "id": "abfb7197",
   "metadata": {},
   "outputs": [
    {
     "data": {
      "text/html": [
       "<div>\n",
       "<style scoped>\n",
       "    .dataframe tbody tr th:only-of-type {\n",
       "        vertical-align: middle;\n",
       "    }\n",
       "\n",
       "    .dataframe tbody tr th {\n",
       "        vertical-align: top;\n",
       "    }\n",
       "\n",
       "    .dataframe thead th {\n",
       "        text-align: right;\n",
       "    }\n",
       "</style>\n",
       "<table border=\"1\" class=\"dataframe\">\n",
       "  <thead>\n",
       "    <tr style=\"text-align: right;\">\n",
       "      <th></th>\n",
       "      <th>prompt</th>\n",
       "      <th>out_token_id</th>\n",
       "      <th>out_token_str</th>\n",
       "      <th>latent_token_id</th>\n",
       "      <th>latent_token_str</th>\n",
       "    </tr>\n",
       "  </thead>\n",
       "  <tbody>\n",
       "    <tr>\n",
       "      <th>0</th>\n",
       "      <td>\"_\"是一种大型家养动物，有四条腿，常用于骑乘和赛跑。答案：\"马\"。\\n\"_\"是夜空中发光的...</td>\n",
       "      <td>[90286]</td>\n",
       "      <td>书</td>\n",
       "      <td>[65, 32993, 2190, 749]</td>\n",
       "      <td>book</td>\n",
       "    </tr>\n",
       "    <tr>\n",
       "      <th>1</th>\n",
       "      <td>\"_\"是火车或公共汽车定期停靠以便乘客上下车的地方。答案：\"站\"。\\n\"_\"用来坐和休息。答...</td>\n",
       "      <td>[99718]</td>\n",
       "      <td>云</td>\n",
       "      <td>[12361, 564, 66, 32578]</td>\n",
       "      <td>cloud</td>\n",
       "    </tr>\n",
       "    <tr>\n",
       "      <th>2</th>\n",
       "      <td>\"_\"是火车或公共汽车定期停靠以便乘客上下车的地方。答案：\"站\"。\\n\"_\"是我们行走和建造...</td>\n",
       "      <td>[67279]</td>\n",
       "      <td>包</td>\n",
       "      <td>[65, 4645, 21250]</td>\n",
       "      <td>bag</td>\n",
       "    </tr>\n",
       "    <tr>\n",
       "      <th>3</th>\n",
       "      <td>\"_\"是在八之后的数字。答案：\"九\"。\\n\"_\"是被陆地包围的大片水体。答案：\"湖\"。\\n\"...</td>\n",
       "      <td>[39426]</td>\n",
       "      <td>口</td>\n",
       "      <td>[6355, 76, 32680]</td>\n",
       "      <td>mouth</td>\n",
       "    </tr>\n",
       "    <tr>\n",
       "      <th>4</th>\n",
       "      <td>\"_\"是人中被视为道德上好或可取的品质。答案：\"德\"。\\n\"_\"是在九百九十九之后的数值。答...</td>\n",
       "      <td>[72990]</td>\n",
       "      <td>土</td>\n",
       "      <td>[82, 704]</td>\n",
       "      <td>soil</td>\n",
       "    </tr>\n",
       "    <tr>\n",
       "      <th>...</th>\n",
       "      <td>...</td>\n",
       "      <td>...</td>\n",
       "      <td>...</td>\n",
       "      <td>...</td>\n",
       "      <td>...</td>\n",
       "    </tr>\n",
       "    <tr>\n",
       "      <th>134</th>\n",
       "      <td>\"_\"是指向北的基本方向的相反方向。答案：\"南\"。\\n\"_\"是传统社会中由家庭或社区通过社会...</td>\n",
       "      <td>[71618]</td>\n",
       "      <td>起</td>\n",
       "      <td>[461, 31509, 5963, 81]</td>\n",
       "      <td>rise</td>\n",
       "    </tr>\n",
       "    <tr>\n",
       "      <th>135</th>\n",
       "      <td>\"_\"是覆盖地球大部分表面的大片盐水。答案：\"洋\"。\\n\"_\"是通常用于阅读的平面物体。答案...</td>\n",
       "      <td>[77559]</td>\n",
       "      <td>左</td>\n",
       "      <td>[273, 59238, 2359, 75]</td>\n",
       "      <td>left</td>\n",
       "    </tr>\n",
       "    <tr>\n",
       "      <th>136</th>\n",
       "      <td>\"_\"是一种艺术形式，涉及到身体的运动，通常是有节奏的并伴随音乐。答案：\"舞\"。\\n\"_\"是...</td>\n",
       "      <td>[78685]</td>\n",
       "      <td>音</td>\n",
       "      <td>[27532, 82, 704]</td>\n",
       "      <td>sound</td>\n",
       "    </tr>\n",
       "    <tr>\n",
       "      <th>137</th>\n",
       "      <td>\"_\"是自然形成的、足够人进入的地下空间。答案：\"洞\"。\\n\"_\"用来连接被河流或道路等障碍...</td>\n",
       "      <td>[47534]</td>\n",
       "      <td>力</td>\n",
       "      <td>[13175, 5368, 79, 21743]</td>\n",
       "      <td>power</td>\n",
       "    </tr>\n",
       "    <tr>\n",
       "      <th>138</th>\n",
       "      <td>\"_\"常见于香蕉。答案：\"黄\"。\\n\"_\"是通常用于阅读的平面物体。答案：\"平\"。\\n\"_\"...</td>\n",
       "      <td>[100039]</td>\n",
       "      <td>夏</td>\n",
       "      <td>[69544, 1242, 82, 27051, 62566]</td>\n",
       "      <td>summer</td>\n",
       "    </tr>\n",
       "  </tbody>\n",
       "</table>\n",
       "<p>139 rows × 5 columns</p>\n",
       "</div>"
      ],
      "text/plain": [
       "                                                prompt out_token_id  \\\n",
       "0    \"_\"是一种大型家养动物，有四条腿，常用于骑乘和赛跑。答案：\"马\"。\\n\"_\"是夜空中发光的...      [90286]   \n",
       "1    \"_\"是火车或公共汽车定期停靠以便乘客上下车的地方。答案：\"站\"。\\n\"_\"用来坐和休息。答...      [99718]   \n",
       "2    \"_\"是火车或公共汽车定期停靠以便乘客上下车的地方。答案：\"站\"。\\n\"_\"是我们行走和建造...      [67279]   \n",
       "3    \"_\"是在八之后的数字。答案：\"九\"。\\n\"_\"是被陆地包围的大片水体。答案：\"湖\"。\\n\"...      [39426]   \n",
       "4    \"_\"是人中被视为道德上好或可取的品质。答案：\"德\"。\\n\"_\"是在九百九十九之后的数值。答...      [72990]   \n",
       "..                                                 ...          ...   \n",
       "134  \"_\"是指向北的基本方向的相反方向。答案：\"南\"。\\n\"_\"是传统社会中由家庭或社区通过社会...      [71618]   \n",
       "135  \"_\"是覆盖地球大部分表面的大片盐水。答案：\"洋\"。\\n\"_\"是通常用于阅读的平面物体。答案...      [77559]   \n",
       "136  \"_\"是一种艺术形式，涉及到身体的运动，通常是有节奏的并伴随音乐。答案：\"舞\"。\\n\"_\"是...      [78685]   \n",
       "137  \"_\"是自然形成的、足够人进入的地下空间。答案：\"洞\"。\\n\"_\"用来连接被河流或道路等障碍...      [47534]   \n",
       "138  \"_\"常见于香蕉。答案：\"黄\"。\\n\"_\"是通常用于阅读的平面物体。答案：\"平\"。\\n\"_\"...     [100039]   \n",
       "\n",
       "    out_token_str                  latent_token_id latent_token_str  \n",
       "0               书           [65, 32993, 2190, 749]             book  \n",
       "1               云          [12361, 564, 66, 32578]            cloud  \n",
       "2               包                [65, 4645, 21250]              bag  \n",
       "3               口                [6355, 76, 32680]            mouth  \n",
       "4               土                        [82, 704]             soil  \n",
       "..            ...                              ...              ...  \n",
       "134             起           [461, 31509, 5963, 81]             rise  \n",
       "135             左           [273, 59238, 2359, 75]             left  \n",
       "136             音                 [27532, 82, 704]            sound  \n",
       "137             力         [13175, 5368, 79, 21743]            power  \n",
       "138             夏  [69544, 1242, 82, 27051, 62566]           summer  \n",
       "\n",
       "[139 rows x 5 columns]"
      ]
     },
     "execution_count": 43,
     "metadata": {},
     "output_type": "execute_result"
    }
   ],
   "source": [
    "df_gap"
   ]
  },
  {
   "cell_type": "code",
   "execution_count": null,
   "id": "bd671dc4",
   "metadata": {},
   "outputs": [],
   "source": [
    "os.makedirs(f'{os.path.join(out_dir, model_name)}/cloze', exist_ok=True)\n",
    "df_gap.to_csv(f'{os.path.join(out_dir, model_name)}/cloze/{target_lang}_dataset.csv', index=False)"
   ]
  },
  {
   "cell_type": "code",
   "execution_count": null,
   "id": "9f179444",
   "metadata": {},
   "outputs": [
    {
     "name": "stderr",
     "output_type": "stream",
     "text": [
      "139it [00:37,  3.69it/s]\n"
     ]
    }
   ],
   "source": [
    "latent_token_probs = []\n",
    "out_token_probs = []\n",
    "entropy = []\n",
    "energy = [] \n",
    "latents_all = []\n",
    "device = torch.device(\"cuda:0\")\n",
    "\n",
    "with torch.backends.cuda.sdp_kernel(enable_flash=False):\n",
    "    for idx, d in tqdm(enumerate(dataset_gap)):\n",
    "        last = []\n",
    "        latents = []\n",
    "        \n",
    "        logits, cache = model.run_with_cache(model.to_tokens(d['prompt']), return_type='logits')\n",
    "        latents = torch.cat([cache[f'blocks.{i}.hook_resid_post'] for i in range(len(model.blocks))])\n",
    "        logits = unemb(latents)\n",
    "        latents = latents.detach().cpu().clone().float()\n",
    "\n",
    "        # latents = llama.latents_all_layers(d['prompt'])\n",
    "        # logits = unemb(latents)\n",
    "        last = logits[:, -1, :].float().softmax(dim=-1).detach().cpu()\n",
    "        latent_token_probs += [last[:, torch.tensor(d['latent_token_id'])].sum(dim=-1)]\n",
    "        out_token_probs += [last[:, torch.tensor(d['out_token_id'])].sum(dim=-1)]\n",
    "        entropy += [compute_entropy(last)]\n",
    "\n",
    "        latents_all += [latents[:, -1, :].float().detach().cpu().clone()]\n",
    "        latents_normalized = latents[:, -1, :].float()\n",
    "\n",
    "        latents_normalized = latents_normalized / (((latents_normalized**2).mean(dim=-1, keepdim=True))**0.5)\n",
    "        latents_normalized /= (latents_normalized.norm(dim=-1, keepdim=True))\n",
    "        norm = ((U_normalized @ latents_normalized.T)**2).mean(dim=0)**0.5\n",
    "        energy += [norm/avgUU]\n",
    "\n",
    "latent_token_probs = torch.stack(latent_token_probs)\n",
    "out_token_probs = torch.stack(out_token_probs)\n",
    "entropy = torch.stack(entropy)\n",
    "energy = torch.stack(energy)\n",
    "latents = torch.stack(latents_all)"
   ]
  },
  {
   "cell_type": "code",
   "execution_count": null,
   "id": "6266c8ba",
   "metadata": {},
   "outputs": [
    {
     "name": "stderr",
     "output_type": "stream",
     "text": [
      "/remote-home/fkzhu/zfk/multilingual/llm-latent-language/utils.py:52: UserWarning: This figure includes Axes that are not compatible with tight_layout, so results might be incorrect.\n",
      "  plt.tight_layout()\n"
     ]
    },
    {
     "data": {
      "image/png": "[encoded data removed]",
      "text/plain": [
       "<Figure size 500x300 with 3 Axes>"
      ]
     },
     "metadata": {},
     "output_type": "display_data"
    }
   ],
   "source": [
    "size2tik = {'7b': 5, '13b': 5, '70b': 10}\n",
    "\n",
    "fig, ax, ax2 = plot_ci_plus_heatmap(latent_token_probs, entropy, latent_lang, color='tab:orange', tik_step=size2tik[model_size], do_colorbar=True,\n",
    "nums=[.99, 0.18, 0.025, 0.6])\n",
    "plot_ci(ax2, out_token_probs, target_lang, color='tab:blue', do_lines=False)\n",
    "ax2.set_xlabel('layer')\n",
    "ax2.set_ylabel('probability')\n",
    "if model_size == '7b':\n",
    "    ax2.set_xlim(0, out_token_probs.shape[1]+1)\n",
    "else:\n",
    "    ax2.set_xlim(0, round(out_token_probs.shape[1]/10)*10+1)\n",
    "ax2.set_ylim(0, 1)\n",
    "# put legend on the top left\n",
    "ax2.legend(loc='upper left')\n",
    "os.makedirs(f'{os.path.join(out_dir, model_name)}/cloze', exist_ok=True)\n",
    "plt.savefig(f'{os.path.join(out_dir, model_name)}/cloze/{model_size}_{target_lang}_probas_ent.png', dpi=300, bbox_inches='tight')"
   ]
  },
  {
   "cell_type": "code",
   "execution_count": null,
   "id": "33806161",
   "metadata": {},
   "outputs": [
    {
     "data": {
      "image/png": "[encoded data removed]",
      "text/plain": [
       "<Figure size 500x300 with 1 Axes>"
      ]
     },
     "metadata": {},
     "output_type": "display_data"
    }
   ],
   "source": [
    "fig, ax2 = plt.subplots(figsize=(5,3))\n",
    "plot_ci(ax2, energy, 'energy', color='tab:green', do_lines=True, tik_step=size2tik[model_size])\n",
    "ax2.set_xlabel('layer')\n",
    "ax2.set_ylabel('energy')\n",
    "if model_size == '7b':\n",
    "    ax2.set_xlim(0, out_token_probs.shape[1]+1)\n",
    "else:\n",
    "    ax2.set_xlim(0, round(out_token_probs.shape[1]/10)*10+1)\n",
    "os.makedirs(f'{os.path.join(out_dir, model_name)}/cloze', exist_ok=True)\n",
    "plt.savefig(f'{os.path.join(out_dir, model_name)}/cloze/{model_size}_{target_lang}_energy.png', dpi=300, bbox_inches='tight')"
   ]
  },
  {
   "cell_type": "code",
   "execution_count": null,
   "id": "1bfb206f",
   "metadata": {},
   "outputs": [],
   "source": [
    "torch.save(latents, f'{os.path.join(out_dir, model_name)}/cloze/{model_size}_{target_lang}_latents.pt')"
   ]
  }
 ],
 "metadata": {
  "kernelspec": {
   "display_name": "Python 3 (ipykernel)",
   "language": "python",
   "name": "python3"
  },
  "language_info": {
   "codemirror_mode": {
    "name": "ipython",
    "version": 3
   },
   "file_extension": ".py",
   "mimetype": "text/x-python",
   "name": "python",
   "nbconvert_exporter": "python",
   "pygments_lexer": "ipython3",
   "version": "3.1.undefined"
  }
 },
 "nbformat": 4,
 "nbformat_minor": 5
}
